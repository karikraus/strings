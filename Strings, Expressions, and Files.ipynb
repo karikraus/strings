{
 "cells": [
  {
   "cell_type": "markdown",
   "metadata": {},
   "source": [
    "# Storytelling with Code Fall 2021  \n",
    "## Third Notebook\n",
    "### PYTHON BASICS: EXPRESSIONS AND STRINGS\n",
    "(Based on Allison Parrish's excellent tutorial, with extensive modifications)\n",
    "https://github.com/aparrish/rwet/blob/master/expressions-and-strings.ipynb\n",
    "\n",
    "\n",
    "This notebook is an introduction to working with text in Python. We'll start out with numbers as a way to position text (or \"strings\" as they're more commonly called in programming) within the larger context of other data types.  \n",
    "\n",
    "You'll need to download this notebook, as well as the images associated with it, and then upload them to your own Jupyter Notebook environment. If you've forgotten how to do that, review the first notebook of the semester."
   ]
  },
  {
   "cell_type": "markdown",
   "metadata": {},
   "source": [
    "## ARITHMETIC EXPRESSIONS  \n",
    "You can use your notebook as a calculator to evaluate different arithmetic expressions:"
   ]
  },
  {
   "cell_type": "code",
   "execution_count": null,
   "metadata": {},
   "outputs": [],
   "source": [
    "5 + 3"
   ]
  },
  {
   "cell_type": "code",
   "execution_count": null,
   "metadata": {},
   "outputs": [],
   "source": [
    "4 + 5 * 6"
   ]
  },
  {
   "cell_type": "code",
   "execution_count": null,
   "metadata": {},
   "outputs": [],
   "source": [
    "(4 + 5) * 6"
   ]
  },
  {
   "cell_type": "code",
   "execution_count": null,
   "metadata": {},
   "outputs": [],
   "source": [
    "10+20+30"
   ]
  },
  {
   "cell_type": "code",
   "execution_count": null,
   "metadata": {},
   "outputs": [],
   "source": [
    "19"
   ]
  },
  {
   "cell_type": "markdown",
   "metadata": {},
   "source": [
    "For a list of the different arithmetic operators available to you, see [this](https://www.w3schools.com/python/gloss_python_arithmetic_operators.asp) handy resource guide."
   ]
  },
  {
   "cell_type": "markdown",
   "metadata": {},
   "source": [
    "## EXPRESSIONS OF INEQUALITY  \n",
    "There are also special operators in Python that allow you to compare two values to see if they're equal. Several of these symbols will likely be familiar to you from grade school:"
   ]
  },
  {
   "cell_type": "code",
   "execution_count": null,
   "metadata": {},
   "outputs": [],
   "source": [
    "3 * 5 == 9 + 6"
   ]
  },
  {
   "cell_type": "code",
   "execution_count": null,
   "metadata": {},
   "outputs": [],
   "source": [
    "20 == 7 * 3"
   ]
  },
  {
   "cell_type": "code",
   "execution_count": null,
   "metadata": {},
   "outputs": [],
   "source": [
    "17 < 18"
   ]
  },
  {
   "cell_type": "code",
   "execution_count": null,
   "metadata": {},
   "outputs": [],
   "source": [
    "17 > 18"
   ]
  },
  {
   "cell_type": "code",
   "execution_count": null,
   "metadata": {},
   "outputs": [],
   "source": [
    "22 >= 22"
   ]
  },
  {
   "cell_type": "code",
   "execution_count": null,
   "metadata": {},
   "outputs": [],
   "source": [
    "22 <= 22"
   ]
  },
  {
   "cell_type": "code",
   "execution_count": null,
   "metadata": {},
   "outputs": [],
   "source": [
    "22 =< 22"
   ]
  },
  {
   "cell_type": "markdown",
   "metadata": {},
   "source": [
    "Some comparison operators can also be applied to strings (i.e., text) (Note: the \"!+\" operator can be translated as \"not equal to\")"
   ]
  },
  {
   "cell_type": "code",
   "execution_count": null,
   "metadata": {},
   "outputs": [],
   "source": [
    "'python' == 'python'"
   ]
  },
  {
   "cell_type": "code",
   "execution_count": null,
   "metadata": {},
   "outputs": [],
   "source": [
    "'python'!='cat'"
   ]
  },
  {
   "cell_type": "code",
   "execution_count": null,
   "metadata": {},
   "outputs": [],
   "source": [
    "'python'!='python'"
   ]
  },
  {
   "cell_type": "markdown",
   "metadata": {},
   "source": [
    "For a list of comparison operators in Python, see [this](https://www.w3schools.com/python/gloss_python_comparison_operators.asp) guide."
   ]
  },
  {
   "cell_type": "markdown",
   "metadata": {},
   "source": [
    "# Variables  \n",
    "A variable is a label assigned to a value or piece of data. That data may be numerical or textual, as well as quantitatively large or small (e.g., a collection of poems or a single letter or number). To associate a particular value to a variable, we use the \"=\" operator. The advantage of variables is that they can serve as surrogates for the data they reference. If you assign the text of a novel, for example, to the variable \"x,\" you can type \"x\" whenever you want to manipulate, process, or display the contents of the novel. Here are some examples of variables in action (be sure to run each code cell; note that executing a code cell that merely assigns a value to a variable won't result in any visible output; be sure to run it nonetheless and then move on to the next cell)."
   ]
  },
  {
   "cell_type": "code",
   "execution_count": null,
   "metadata": {},
   "outputs": [],
   "source": [
    "ourclass = \"Storytelling with Code\""
   ]
  },
  {
   "cell_type": "code",
   "execution_count": null,
   "metadata": {},
   "outputs": [],
   "source": [
    "ourclass"
   ]
  },
  {
   "cell_type": "code",
   "execution_count": null,
   "metadata": {},
   "outputs": [],
   "source": [
    "y = \"2021\""
   ]
  },
  {
   "cell_type": "code",
   "execution_count": null,
   "metadata": {},
   "outputs": [],
   "source": [
    "y"
   ]
  },
  {
   "cell_type": "code",
   "execution_count": null,
   "metadata": {},
   "outputs": [],
   "source": [
    "k = (4 + 5) * 6"
   ]
  },
  {
   "cell_type": "code",
   "execution_count": null,
   "metadata": {},
   "outputs": [],
   "source": [
    "k"
   ]
  },
  {
   "cell_type": "code",
   "execution_count": null,
   "metadata": {},
   "outputs": [],
   "source": [
    "house_of_dust = 'A HOUSE OF STEEL\\nBY AN ABANDONED LAKE\\nUSING CANDLES\\nINHABITED BY LOVERS'"
   ]
  },
  {
   "cell_type": "code",
   "execution_count": null,
   "metadata": {},
   "outputs": [],
   "source": [
    "house_of_dust"
   ]
  },
  {
   "cell_type": "code",
   "execution_count": null,
   "metadata": {},
   "outputs": [],
   "source": [
    "print(house_of_dust)"
   ]
  },
  {
   "cell_type": "code",
   "execution_count": null,
   "metadata": {},
   "outputs": [],
   "source": [
    "material = ['SAND', 'DUST', 'LEAVES', 'PAPER', 'TIN', 'ROOTS', 'BRICK', 'STONE', 'DISCARDED CLOTHING', 'GLASS', 'STEEL', 'PLASTIC', 'MUD', 'BROKEN DISHES', 'WOOD', 'STRAW', 'WEEDS']"
   ]
  },
  {
   "cell_type": "code",
   "execution_count": null,
   "metadata": {},
   "outputs": [],
   "source": [
    "material"
   ]
  },
  {
   "cell_type": "markdown",
   "metadata": {},
   "source": [
    "If you haven't assigned any information to a variable name, you'll get an error message:"
   ]
  },
  {
   "cell_type": "code",
   "execution_count": null,
   "metadata": {},
   "outputs": [],
   "source": [
    "Ramona"
   ]
  },
  {
   "cell_type": "code",
   "execution_count": null,
   "metadata": {},
   "outputs": [],
   "source": [
    "Ramona = \"A Beverly Cleary character\""
   ]
  },
  {
   "cell_type": "code",
   "execution_count": null,
   "metadata": {},
   "outputs": [],
   "source": [
    "Ramona"
   ]
  },
  {
   "cell_type": "markdown",
   "metadata": {},
   "source": [
    "If you assign a value to a variable and subsequently reuse that variable name and assign it a new value, Jupyter notebook will honor the most recent assignment:"
   ]
  },
  {
   "cell_type": "code",
   "execution_count": null,
   "metadata": {},
   "outputs": [],
   "source": [
    "print(Ramona)"
   ]
  },
  {
   "cell_type": "code",
   "execution_count": null,
   "metadata": {},
   "outputs": [],
   "source": [
    "Ramona = 3 * 3"
   ]
  },
  {
   "cell_type": "code",
   "execution_count": null,
   "metadata": {},
   "outputs": [],
   "source": [
    "Ramona"
   ]
  },
  {
   "cell_type": "markdown",
   "metadata": {},
   "source": [
    "Variable names may be short (a single letter can function as a variable) or longer and more descriptive. For an overview of the rules and constraints placed on variable names, see [this guide](https://www.w3schools.com/python/python_variables_names.asp). "
   ]
  },
  {
   "cell_type": "markdown",
   "metadata": {},
   "source": [
    "# DATA TYPES  \n",
    "Variables can store data of different types, such as text (called \"strings\" in programming parlance); numbers (e.g., integers or whole numbers and floats or numbers with decimal points); and lists (which can themselves store data of different types, such as strings or integers). For this class, we'll be working primarily with strings and lists that contain strings.  Other data types that can play an important role in digital humanities and creative coding include dictionaries and tuples. To learn more about these other data types, consult the relevant modules at the [Python for Everybody](https://www.py4e.com/lessons) website, an online introductory Python textbook created by Dr. Charles Severance<br>\n",
    "\n",
    "Data types are distinguishable from one another at the level of syntax or appearance: strings, for example, are enclosed in quotation marks, while lists are enclosed in square brackets. These surface distinctions signal deeper behavioral and semantic differences: you can do things with strings that you can't do with numbers, for instance, and vice versa. Below I've applied the \"type\" function to ask the Python interpreter to indicate what class of data the expression evaluates to. As you run each cell, take note of the various syntactic practices that distinguish one data type from another. "
   ]
  },
  {
   "cell_type": "code",
   "execution_count": null,
   "metadata": {},
   "outputs": [],
   "source": [
    "type(100 + 1)"
   ]
  },
  {
   "cell_type": "code",
   "execution_count": null,
   "metadata": {},
   "outputs": [],
   "source": [
    "type(3.14)"
   ]
  },
  {
   "cell_type": "code",
   "execution_count": null,
   "metadata": {},
   "outputs": [],
   "source": [
    "\"Suppose there is a pigeon, suppose there is.\""
   ]
  },
  {
   "cell_type": "code",
   "execution_count": null,
   "metadata": {},
   "outputs": [],
   "source": [
    "type(\"Suppose there is a pigeon, suppose there is.\")"
   ]
  },
  {
   "cell_type": "code",
   "execution_count": null,
   "metadata": {},
   "outputs": [],
   "source": [
    "type([\"suppose\", \"there\", \"is\", \"a\", \"pigeon\"])"
   ]
  },
  {
   "cell_type": "code",
   "execution_count": null,
   "metadata": {},
   "outputs": [],
   "source": [
    "type([\"s\", \"u\", \"p\", \"p\", \"o\", \"s\", \"e\"])"
   ]
  },
  {
   "cell_type": "code",
   "execution_count": null,
   "metadata": {},
   "outputs": [],
   "source": [
    "type([1, 3, 5, 7])"
   ]
  },
  {
   "cell_type": "code",
   "execution_count": null,
   "metadata": {},
   "outputs": [],
   "source": [
    "type([1, \"a\", 3])"
   ]
  },
  {
   "cell_type": "markdown",
   "metadata": {},
   "source": [
    "# Strings  \n",
    "A string is a sequence of characters. You can think of \"string\" as roughly synonymous with \"text.\" Strings can be manipulated in a variety of ways to analyze them or achieve new combinatorial outputs. You can slice, combine, replace, print, change, scramble, search, and randomize them. In Python, strings are enclosed in either single or double quotation marks, like so:"
   ]
  },
  {
   "cell_type": "code",
   "execution_count": null,
   "metadata": {},
   "outputs": [],
   "source": [
    "\"This is a string\""
   ]
  },
  {
   "cell_type": "code",
   "execution_count": null,
   "metadata": {},
   "outputs": [],
   "source": [
    "'This is a string too'"
   ]
  },
  {
   "cell_type": "code",
   "execution_count": null,
   "metadata": {},
   "outputs": [],
   "source": [
    "'Suppose there is a pigeon, suppose there is.'"
   ]
  },
  {
   "cell_type": "markdown",
   "metadata": {},
   "source": [
    "As we've already seen, you can assign a string to a variable:"
   ]
  },
  {
   "cell_type": "code",
   "execution_count": null,
   "metadata": {},
   "outputs": [],
   "source": [
    "roastbeef = \"Suppose there is a pigeon, suppose there is.\""
   ]
  },
  {
   "cell_type": "code",
   "execution_count": null,
   "metadata": {},
   "outputs": [],
   "source": [
    "roastbeef"
   ]
  },
  {
   "cell_type": "code",
   "execution_count": null,
   "metadata": {},
   "outputs": [],
   "source": [
    "cat_message = \"我爱猫！😻, 4\""
   ]
  },
  {
   "cell_type": "code",
   "execution_count": null,
   "metadata": {},
   "outputs": [],
   "source": [
    "type(cat_message)"
   ]
  },
  {
   "cell_type": "markdown",
   "metadata": {},
   "source": [
    "What happens if you write a string that includes internal dialog with quotation marks? How does Python do with those, given that it regards quotation marks as a signal meaning \"Aha! This is a string!\"?"
   ]
  },
  {
   "cell_type": "code",
   "execution_count": null,
   "metadata": {},
   "outputs": [],
   "source": [
    "\"And then he said, \"I hated the steak,\" and vanished.\""
   ]
  },
  {
   "cell_type": "markdown",
   "metadata": {},
   "source": [
    "There are a couple workarounds to this problem. The easiest one is to use triple quotation marks around the entire string, which tells the interactive interpreter to treat everything else enclosed as string literals:"
   ]
  },
  {
   "cell_type": "code",
   "execution_count": null,
   "metadata": {},
   "outputs": [],
   "source": [
    "\"\"\"And then he said, \"I hated the steak,\" and vanished.\"\"\""
   ]
  },
  {
   "cell_type": "markdown",
   "metadata": {},
   "source": [
    "## Asking Questions About Strings  \n",
    "Now that you know something about strings, let's look at some of the ways you can examine and manipulate them. To kick things off, let's look at the \"len\" function, which tells you how many characters are in a string:"
   ]
  },
  {
   "cell_type": "code",
   "execution_count": null,
   "metadata": {},
   "outputs": [],
   "source": [
    "len(\"Suppose there is a pigeon, suppose there is.\")"
   ]
  },
  {
   "cell_type": "markdown",
   "metadata": {},
   "source": [
    "Be sure to observe all the formatting requirements for the function, such as inserting the string between quotation marks and parentheses. One other thing to note about the results, above, is that blank spaces are counted as characters.\n",
    "\n",
    "You can also obtain the length value for two or more strings and add them together using the \"+\" operator:"
   ]
  },
  {
   "cell_type": "code",
   "execution_count": null,
   "metadata": {},
   "outputs": [],
   "source": [
    "len(\"Camembert\") + len(\"Cheddar\")"
   ]
  },
  {
   "cell_type": "markdown",
   "metadata": {},
   "source": [
    "The \"in\" operator allows you to find out if a substring is contained inside a larger string:"
   ]
  },
  {
   "cell_type": "code",
   "execution_count": null,
   "metadata": {},
   "outputs": [],
   "source": [
    "\"foo\" in \"buffoon\""
   ]
  },
  {
   "cell_type": "code",
   "execution_count": null,
   "metadata": {},
   "outputs": [],
   "source": [
    "\"foo\" in \"reginald\""
   ]
  },
  {
   "cell_type": "markdown",
   "metadata": {},
   "source": [
    "The \"startswith\" method tells you if a string starts with some particular combination of characters:"
   ]
  },
  {
   "cell_type": "code",
   "execution_count": null,
   "metadata": {},
   "outputs": [],
   "source": [
    "\"foodie\".startswith(\"foo\")"
   ]
  },
  {
   "cell_type": "markdown",
   "metadata": {},
   "source": [
    "The \"endswith\" method in parallel fashion lets you determine if a string ends with a particular sequence of characters:"
   ]
  },
  {
   "cell_type": "code",
   "execution_count": null,
   "metadata": {},
   "outputs": [],
   "source": [
    "\"foodie\".endswith(\"foo\")"
   ]
  },
  {
   "cell_type": "markdown",
   "metadata": {},
   "source": [
    "The \"islower\" method evaluates a string to determine if it's in all lower case:"
   ]
  },
  {
   "cell_type": "code",
   "execution_count": null,
   "metadata": {},
   "outputs": [],
   "source": [
    "\"foodie\".islower()"
   ]
  },
  {
   "cell_type": "markdown",
   "metadata": {},
   "source": [
    "And of course there's an upper case equivalent:"
   ]
  },
  {
   "cell_type": "code",
   "execution_count": null,
   "metadata": {},
   "outputs": [],
   "source": [
    "\"foodie\".isupper()"
   ]
  },
  {
   "cell_type": "code",
   "execution_count": null,
   "metadata": {},
   "outputs": [],
   "source": [
    "\"YELLING ON THE INTERNET\".islower()"
   ]
  },
  {
   "cell_type": "code",
   "execution_count": null,
   "metadata": {},
   "outputs": [],
   "source": [
    "\"YELLING ON THE INTERNET\".isupper()"
   ]
  },
  {
   "cell_type": "markdown",
   "metadata": {},
   "source": [
    "The \"find\" method searches for the first occurence of a substring and returns its location within the larger string. If the substring is not found, a value of \"-1\" is returned:"
   ]
  },
  {
   "cell_type": "code",
   "execution_count": null,
   "metadata": {},
   "outputs": [],
   "source": [
    "\"Now is the winter of our discontent\".find(\"win\")"
   ]
  },
  {
   "cell_type": "code",
   "execution_count": null,
   "metadata": {},
   "outputs": [],
   "source": [
    "\"Now is the winter of our discontent\".find(\"lose\")"
   ]
  },
  {
   "cell_type": "markdown",
   "metadata": {},
   "source": [
    "You can use the \"count\" method to count the number of times a specified substring occurs:"
   ]
  },
  {
   "cell_type": "code",
   "execution_count": null,
   "metadata": {},
   "outputs": [],
   "source": [
    "\"I got rhythm, I got music, I got my man, who could ask for anything more\".count(\"I got\")"
   ]
  },
  {
   "cell_type": "markdown",
   "metadata": {},
   "source": [
    "Some comparison operators, as we've already seen, can be used on strings as well as numbers:"
   ]
  },
  {
   "cell_type": "code",
   "execution_count": null,
   "metadata": {},
   "outputs": [],
   "source": [
    "\"pants\" == \"pants\""
   ]
  },
  {
   "cell_type": "code",
   "execution_count": null,
   "metadata": {},
   "outputs": [],
   "source": [
    "\"pants\" == \"trousers\""
   ]
  },
  {
   "cell_type": "code",
   "execution_count": null,
   "metadata": {},
   "outputs": [],
   "source": [
    "x = \"pants\"\n",
    "y = \"trousers\"\n",
    "x == y"
   ]
  },
  {
   "cell_type": "markdown",
   "metadata": {},
   "source": [
    "## Simple String Transformations\n",
    "Python provides a number of methods for simple string transformations. The following methods illustrate how to convert a string to all lowercase or uppercase; capitalize just the first letters of each word; and remove extra spaces:"
   ]
  },
  {
   "cell_type": "code",
   "execution_count": null,
   "metadata": {},
   "outputs": [],
   "source": [
    "\"ARGUMENTATION! DISAGREEMENT! STRIFE!\".lower()"
   ]
  },
  {
   "cell_type": "code",
   "execution_count": null,
   "metadata": {},
   "outputs": [],
   "source": [
    "\"She is. not. happy about this.\".upper()"
   ]
  },
  {
   "cell_type": "code",
   "execution_count": null,
   "metadata": {},
   "outputs": [],
   "source": [
    "\"the yellow wallpaper\".title()"
   ]
  },
  {
   "cell_type": "code",
   "execution_count": null,
   "metadata": {},
   "outputs": [],
   "source": [
    "\" got some random whitespace in some places here     \".strip()"
   ]
  },
  {
   "cell_type": "markdown",
   "metadata": {},
   "source": [
    "A particularly valuable transformation for computational poetry is the \"replace\" method. Use the parentheses following \"replace\" to first specify the substring you want to remove, followed by the substring you'd like to replace it with. Be sure to adhere to all the necessary syntactical requirements when using this (and every other) method (e.g., original string and substrings in quotation marks, comma separating old substring from new in parentheses)."
   ]
  },
  {
   "cell_type": "code",
   "execution_count": null,
   "metadata": {},
   "outputs": [],
   "source": [
    "\"I got rhythm, I got music, I got my man, who could ask for anything more\".replace(\"I got\", \"I used to have\")"
   ]
  },
  {
   "cell_type": "markdown",
   "metadata": {},
   "source": [
    "Remember that variables are your friend:"
   ]
  },
  {
   "cell_type": "code",
   "execution_count": null,
   "metadata": {},
   "outputs": [],
   "source": [
    "x = \"I got rhythm, I got music, I got my man, who could ask for anything more\"\n",
    "x.replace(\"I got\", \"I used to have\")"
   ]
  },
  {
   "cell_type": "code",
   "execution_count": null,
   "metadata": {},
   "outputs": [],
   "source": [
    "y = \"I got\"\n",
    "t = \"I used to have\"\n",
    "x.replace(y, t)"
   ]
  },
  {
   "cell_type": "markdown",
   "metadata": {},
   "source": [
    "## Reading in the Contents of a File as a String  \n",
    "Until now, we've been typing short strings into the interpreter. But as you progress in your programming, you'll want to be able to work with text files containing poems, short stories, novellas, novels, plays, etc. This next section shows you how to read a file into Jupyter Notebook in order to search, transform, display, and otherwise manipulate it. Key to working with any file in Python is making sure it's in the right file format. For literary works, we'll want to change the original file format (e.g., .html or .docx) into what's called \"UTF-8\" format with a .txt file extension. UTF-8 encodes a text in a way that makes it easy for Python to process it and helps ensure that you don't get lots of weird textual artifacts you don't want. You can learn more about text encoding and UTF-8 [here](https://blog.hubspot.com/website/what-is-utf-8).  \n",
    "\n",
    "This is the point at which the text editor becomes a vital tool for the budding digital poet. To start, point your browser to [the poetry foundation](https://www.poetryfoundation.org/poems/48188/sea-rose), where you'll find a copy of H.D.'s poem \"Sea Rose.\" ([H.D.](https://www.poetryfoundation.org/poets/h-d) (Hilda Dolittle) was a 20th-century avant-garde bisexual poet.) In your browser, select and copy the text of the poem (you should exclude the title and author from your selection) and paste it into your text editor. Next, figure out how to change the file format in your particular text editor. In BBEdit, for example, which is the text editor I use most often, I can select \"Save As\" from the \"File\" menu, choosing \"UTF-8\" from a long list of options. You may need to google and otherwise research how to do this in your text editor. Equally important is what you name your file: you should save it as \"sea_rose.txt\" minus the quotation marks (your text editor may automatically add the \".txt\" file extension). Once you've done that, you'll need to upload it to Jupyter notebook. If you don't recall how to do that, you'll want to review our first notebook. You're now ready to open and read the file:"
   ]
  },
  {
   "cell_type": "code",
   "execution_count": null,
   "metadata": {},
   "outputs": [],
   "source": [
    "open(\"sea_rose.txt\").read()"
   ]
  },
  {
   "cell_type": "markdown",
   "metadata": {},
   "source": [
    "You can improve the formatting by using the print statement:"
   ]
  },
  {
   "cell_type": "code",
   "execution_count": null,
   "metadata": {},
   "outputs": [],
   "source": [
    "print(open(\"sea_rose.txt\").read())"
   ]
  },
  {
   "cell_type": "markdown",
   "metadata": {},
   "source": [
    "Now try assigning the whole poem to a variable:"
   ]
  },
  {
   "cell_type": "code",
   "execution_count": null,
   "metadata": {},
   "outputs": [],
   "source": [
    "text = open(\"sea_rose.txt\").read()\n",
    "print(text)"
   ]
  },
  {
   "cell_type": "markdown",
   "metadata": {},
   "source": [
    "Let's try applying some of the transformation methods we learned earlier:"
   ]
  },
  {
   "cell_type": "code",
   "execution_count": null,
   "metadata": {},
   "outputs": [],
   "source": [
    "text.lower().count(\"rose\")"
   ]
  },
  {
   "cell_type": "code",
   "execution_count": null,
   "metadata": {},
   "outputs": [],
   "source": [
    "print(text.replace(\"rose\", \"tulip\"))"
   ]
  },
  {
   "cell_type": "markdown",
   "metadata": {},
   "source": [
    "Hmm . . . it looks like the first instance of \"rose\" (first word in the first line) was not replaced with \"tulip\". Can you see why? Here's how to fix it:"
   ]
  },
  {
   "cell_type": "code",
   "execution_count": null,
   "metadata": {},
   "outputs": [],
   "source": [
    "print(text.lower().replace(\"rose\", \"tulip\"))"
   ]
  },
  {
   "cell_type": "markdown",
   "metadata": {},
   "source": [
    "Now let's capitalize the first word:"
   ]
  },
  {
   "cell_type": "code",
   "execution_count": null,
   "metadata": {},
   "outputs": [],
   "source": [
    "x = text.lower()\n",
    "y = x.replace(\"rose\", \"tulip\")\n",
    "print(y.capitalize())"
   ]
  },
  {
   "cell_type": "markdown",
   "metadata": {},
   "source": [
    "Let's try two replacements: \"rose\" with \"tulip\" and \"leaf\" with \"thorn\""
   ]
  },
  {
   "cell_type": "code",
   "execution_count": null,
   "metadata": {},
   "outputs": [],
   "source": [
    "print(text.lower().replace(\"rose\", \"tulip\").replace(\"leaf\", \"thorn\"))"
   ]
  },
  {
   "attachments": {
    "Slide1.jpeg": {
     "image/jpeg": "[encoded data removed]"
    }
   },
   "cell_type": "markdown",
   "metadata": {},
   "source": [
    "# String Indexing and Slicing \n",
    "Individual characters or substrings can be accessed using string indexing methods in Python. Each character is mapped to a specific index position in the sequence. Somewhat counterintuitively, the first positional slot is numbered \"0\" rather than \"1,\" like so:\n",
    "![Slide1.jpeg](attachment:Slide1.jpeg) To retrieve an individual character, you specify the relevant positional slot for that character in square brackets following the string:"
   ]
  },
  {
   "cell_type": "code",
   "execution_count": null,
   "metadata": {},
   "outputs": [],
   "source": [
    "\"bungalow\"[2]"
   ]
  },
  {
   "cell_type": "markdown",
   "metadata": {},
   "source": [
    "You can achieve the same result by assiging the string to a variable:"
   ]
  },
  {
   "cell_type": "code",
   "execution_count": null,
   "metadata": {},
   "outputs": [],
   "source": [
    "message = \"bungalow\"\n",
    "message[2]"
   ]
  },
  {
   "cell_type": "code",
   "execution_count": null,
   "metadata": {},
   "outputs": [],
   "source": [
    "message[3]"
   ]
  },
  {
   "cell_type": "markdown",
   "metadata": {},
   "source": [
    "What happens if you specify a positional slot that is out of range for that sequence?"
   ]
  },
  {
   "cell_type": "code",
   "execution_count": null,
   "metadata": {},
   "outputs": [],
   "source": [
    "message[17]"
   ]
  },
  {
   "cell_type": "markdown",
   "metadata": {},
   "source": [
    "Let's check the data type for an expression that evaluates to an individual character in a string:"
   ]
  },
  {
   "cell_type": "code",
   "execution_count": null,
   "metadata": {},
   "outputs": [],
   "source": [
    "type(message[3])"
   ]
  },
  {
   "cell_type": "markdown",
   "metadata": {},
   "source": [
    "We can find out the number of characters in a string using the \"len\" method:"
   ]
  },
  {
   "cell_type": "code",
   "execution_count": null,
   "metadata": {},
   "outputs": [],
   "source": [
    "len(message)"
   ]
  },
  {
   "cell_type": "code",
   "execution_count": null,
   "metadata": {},
   "outputs": [],
   "source": [
    "len(message[3])"
   ]
  },
  {
   "cell_type": "markdown",
   "metadata": {},
   "source": [
    "Indexes can be expressions too"
   ]
  },
  {
   "cell_type": "code",
   "execution_count": null,
   "metadata": {},
   "outputs": [],
   "source": [
    "message[2 * 3] #bungalow"
   ]
  },
  {
   "attachments": {
    "Slide2.jpeg": {
     "image/jpeg": "[encoded data removed]"
    }
   },
   "cell_type": "markdown",
   "metadata": {},
   "source": [
    "## Negative Indexes  \n",
    "In addition to working with a string from beginning to end (or left to right), you can also retrieve characters in reverse using negative indexes.\n",
    "\n",
    "![Slide2.jpeg](attachment:Slide2.jpeg)"
   ]
  },
  {
   "cell_type": "code",
   "execution_count": null,
   "metadata": {},
   "outputs": [],
   "source": [
    "message[-2]"
   ]
  },
  {
   "cell_type": "code",
   "execution_count": null,
   "metadata": {},
   "outputs": [],
   "source": [
    "message[-987]"
   ]
  },
  {
   "attachments": {
    "Slide3.jpeg": {
     "image/jpeg": "[encoded data removed]"
    }
   },
   "cell_type": "markdown",
   "metadata": {},
   "source": [
    "There is a lack of symmetry or parallelism in terms of indexing left to right versus right to left. While the first positional slot in regular indexing moving from left to right is numbered \"0\", the first positional slot in negative indexing moving right to left is not \"0\", but \"-1\".\n",
    "![Slide3.jpeg](attachment:Slide3.jpeg)"
   ]
  },
  {
   "cell_type": "markdown",
   "metadata": {},
   "source": [
    "Note that per the \"Terrapins\" example above, the following two expressions would evaluate to the same thing:  \n",
    "\"terrapins\"[0] and \"terrapins\"[-9]"
   ]
  },
  {
   "cell_type": "code",
   "execution_count": null,
   "metadata": {},
   "outputs": [],
   "source": [
    "\"terrapins\"[0]"
   ]
  },
  {
   "cell_type": "code",
   "execution_count": null,
   "metadata": {},
   "outputs": [],
   "source": [
    "\"terrapins\"[-9]"
   ]
  },
  {
   "cell_type": "markdown",
   "metadata": {},
   "source": [
    "Exercise: creating as many new code cells as you need, retrieve each letter in \"terrapins\" using both regular and negative indexing. Start with \"t\", retrieve it using both methods, then move sequentially through each additional letter in the string. "
   ]
  },
  {
   "cell_type": "markdown",
   "metadata": {},
   "source": [
    "## String Slicing\n",
    "You can extract part of a string by specifying the start and stop index positions, separated by a colon."
   ]
  },
  {
   "cell_type": "code",
   "execution_count": null,
   "metadata": {},
   "outputs": [],
   "source": [
    "\"terrapins\"[0:5]"
   ]
  },
  {
   "attachments": {
    "Slide1.jpeg": {
     "image/jpeg": "[encoded data removed]"
    }
   },
   "cell_type": "markdown",
   "metadata": {},
   "source": [
    "Somewhat confusingly, the character occupying the stop index position is not included; the string extraction stops one character short of the last specified index position. The interactive interpreter counts up to but not including the character in that slot. Let's take another look at our \"terrapins\" index key to illustrate:  \n",
    "![Slide1.jpeg](attachment:Slide1.jpeg)\n",
    "The character occuping the slot labeled \"5\" is \"p\", yet \"terrapins\"[0:5] does not return the \"p\" as part of the string slice (e.g., \"terrap\"). Instead the system stops one character short to give us \"terra\". Let's look at another example."
   ]
  },
  {
   "cell_type": "code",
   "execution_count": null,
   "metadata": {},
   "outputs": [],
   "source": [
    "\"House of Dust\"[0:5]"
   ]
  },
  {
   "cell_type": "markdown",
   "metadata": {},
   "source": [
    "Keep in mind that when slicing strings, the values in the brackets can include mathematical expressions:"
   ]
  },
  {
   "cell_type": "code",
   "execution_count": null,
   "metadata": {},
   "outputs": [],
   "source": [
    "t = \"terrapins\"\n",
    "t[1+4:3*3]"
   ]
  },
  {
   "cell_type": "markdown",
   "metadata": {},
   "source": [
    "The values in brackets can also include variables:"
   ]
  },
  {
   "cell_type": "code",
   "execution_count": null,
   "metadata": {},
   "outputs": [],
   "source": [
    "x = 5\n",
    "t[x:9]"
   ]
  },
  {
   "cell_type": "code",
   "execution_count": null,
   "metadata": {},
   "outputs": [],
   "source": [
    "s = 3*3"
   ]
  },
  {
   "cell_type": "code",
   "execution_count": null,
   "metadata": {},
   "outputs": [],
   "source": [
    "t[x:s]"
   ]
  },
  {
   "cell_type": "markdown",
   "metadata": {},
   "source": [
    "You can also use negative indexing to slice strings."
   ]
  },
  {
   "cell_type": "code",
   "execution_count": null,
   "metadata": {},
   "outputs": [],
   "source": [
    "\"terrapins\"[-4:-1]"
   ]
  },
  {
   "cell_type": "markdown",
   "metadata": {},
   "source": [
    "Note that transposing those two index positions won't work; if you're working with negative indexing, the index position furthest from the right must be specified first."
   ]
  },
  {
   "cell_type": "code",
   "execution_count": null,
   "metadata": {},
   "outputs": [],
   "source": [
    "\"terrapins\"[-1:-4]"
   ]
  },
  {
   "cell_type": "markdown",
   "metadata": {},
   "source": [
    "If index slicing always goes up to but not including the stop index position, how do we retrieve the final character of a string? One way is to specify the index position immediately following the one occupied by the last character. Since the \"s\" of \"terrapins\" occupies slot \"9\", we can specify a stop index of \"10\":"
   ]
  },
  {
   "cell_type": "code",
   "execution_count": null,
   "metadata": {},
   "outputs": [],
   "source": [
    "\"terrapins\"[5:10]"
   ]
  },
  {
   "cell_type": "code",
   "execution_count": null,
   "metadata": {},
   "outputs": [],
   "source": [
    "\"House of Dust\"[9:13]"
   ]
  },
  {
   "cell_type": "markdown",
   "metadata": {},
   "source": [
    "Another workaround is to use the \"len\" method we tried out earlier to find out how many characters were in a string: "
   ]
  },
  {
   "cell_type": "code",
   "execution_count": null,
   "metadata": {},
   "outputs": [],
   "source": [
    "\"house of dust\"[-4:len('house of dust')]"
   ]
  },
  {
   "cell_type": "markdown",
   "metadata": {},
   "source": [
    "Python also lets you omit an index position if you want to either start your slice with the first index slot or end at the last index slot:"
   ]
  },
  {
   "cell_type": "code",
   "execution_count": null,
   "metadata": {},
   "outputs": [],
   "source": [
    "\"house of dust\"[:5]"
   ]
  },
  {
   "cell_type": "code",
   "execution_count": null,
   "metadata": {},
   "outputs": [],
   "source": [
    "\"house of dust\"[9:]"
   ]
  },
  {
   "cell_type": "code",
   "execution_count": null,
   "metadata": {},
   "outputs": [],
   "source": [
    "\"house of dust\"[:]"
   ]
  },
  {
   "cell_type": "code",
   "execution_count": null,
   "metadata": {},
   "outputs": [],
   "source": [
    "\"house of dust\"[-4:]"
   ]
  },
  {
   "cell_type": "markdown",
   "metadata": {},
   "source": [
    "## Putting Strings Together  \n",
    "You can join or concatenate two or more strings by using the \"+\" operator. For mathematical expressions, this operator computes the sum of two numbers; for string expressions, it yokes two or more strings together:"
   ]
  },
  {
   "cell_type": "code",
   "execution_count": null,
   "metadata": {},
   "outputs": [],
   "source": [
    "17 + 92"
   ]
  },
  {
   "cell_type": "code",
   "execution_count": null,
   "metadata": {},
   "outputs": [],
   "source": [
    "\"count\" + \"down\""
   ]
  },
  {
   "cell_type": "code",
   "execution_count": null,
   "metadata": {},
   "outputs": [],
   "source": [
    "\"combinatorial \" + \"poetry\""
   ]
  },
  {
   "cell_type": "code",
   "execution_count": null,
   "metadata": {},
   "outputs": [],
   "source": [
    "part1 = \"Nickel, what is nickel, \"\n",
    "part2 = \"it is originally rid of a cover.\"\n",
    "part1 + part2"
   ]
  },
  {
   "cell_type": "markdown",
   "metadata": {},
   "source": [
    "## Strings with Multiple Lines  \n",
    "Note that the first cell below results in an error message as the interpreter tries to deal with line breaks. The following cells show two possible solutions. The second solution uses the triple quotation marks we saw earlier:"
   ]
  },
  {
   "cell_type": "code",
   "execution_count": null,
   "metadata": {},
   "outputs": [],
   "source": [
    "poem = \"Rose, harsh rose, \n",
    "marred and with stint of petals, \n",
    "meagre flower, thin, \n",
    "spare of leaf,\""
   ]
  },
  {
   "cell_type": "code",
   "execution_count": null,
   "metadata": {},
   "outputs": [],
   "source": [
    "poem = \"Rose, harsh rose,\\nmarred and with stint of petals,\\nmeagre flower, thin,\\nspare of leaf,\"\n",
    "print(poem)"
   ]
  },
  {
   "cell_type": "code",
   "execution_count": null,
   "metadata": {},
   "outputs": [],
   "source": [
    "poem = \"\"\"Rose, harsh rose, \n",
    "marred and with stint of petals, \n",
    "meagre flower, thin, \n",
    "spare of leaf,\"\"\"\n",
    "print(poem)"
   ]
  },
  {
   "cell_type": "markdown",
   "metadata": {},
   "source": [
    "EXERCISE 1: Identify a poem you want to work with. Make sure you save it in \"UTF-8\" format and upload it to your Jupyter notebook so that it's available to you in the right directory on your computer. Create a variable and assign the text of your poem to that variable. Use the len() function to find out how many characters are in your poem. Then, use the count() method to find out how many times one or more specific strings occur within it. \n",
    "\n",
    "EXERCISE 2: Transform your poem by 1.) using the \"swapcase\" string method we encountered during class; and 2.) replacing at least three distinct words with three new words using the replace method. You might first try achieving each of these transformations separately (one version of the poem that swaps the case, another version that replaces words), but as a more advanced step, try creating output that combines both of them in a single transformation. Hint: variables are your friend!\n",
    "\n",
    "EXERCISE 3: Try concatenating the Sea Rose poem with your chosen poem to achieve a new poem that combines them together. Hint: assign a different variable to each poem using the open file method we saw earlier and then concatenate the two variables. Do you remember which operator you can use for concatenation?\n",
    "\n",
    "EXERCISE 4: Write an expression, or a series of expressions, that prints out \"Sea Rose\" from the first occurence of the string \"sand\" up until the end of the poem. (Hint: Use the .find() method, discussed in class in addition to string slicing methods). My code, which I'll share later, is three lines long and uses two variables: \"poem\" and another variable to identify and hold the location of the string \"sand\". Another hint: your first line should be \"poem = open(\"sea_rose.txt\").read()\" minus the quotation marks. Third hint: remember that you can use variables in lieu of explicit numbers to slice strings! In other words, you can have a variable that holds a number, and that variable can subsequently be used in your string slicing brackets.)\n",
    "\n",
    "EXERCISE 5: Write an expression that evaluates to a string containing the first fifty characters of \"Sea Rose\" followed by the last fifty characters of \"Sea Rose.\" (Hint: you'll be using string slicing methods and concatenation in this exercise. First line of code can again be \"poem = open(\"sea_rose.txt\").read()\" minus the quotation marks. Then create two new variables, one to hold the first 50 characters, the second to hold the last 50, then concatenate those two variables and print them)"
   ]
  }
 ],
 "metadata": {
  "kernelspec": {
   "display_name": "Python 3",
   "language": "python",
   "name": "python3"
  },
  "language_info": {
   "codemirror_mode": {
    "name": "ipython",
    "version": 3
   },
   "file_extension": ".py",
   "mimetype": "text/x-python",
   "name": "python",
   "nbconvert_exporter": "python",
   "pygments_lexer": "ipython3",
   "version": "3.7.6"
  }
 },
 "nbformat": 4,
 "nbformat_minor": 2
}
